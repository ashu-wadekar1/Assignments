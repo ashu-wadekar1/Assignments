{
 "cells": [
  {
   "cell_type": "code",
   "execution_count": null,
   "id": "ceff72ee",
   "metadata": {},
   "outputs": [],
   "source": [
    "What is List? How will you reverse a list?"
   ]
  },
  {
   "cell_type": "code",
   "execution_count": 43,
   "id": "f16a895e",
   "metadata": {},
   "outputs": [
    {
     "name": "stdout",
     "output_type": "stream",
     "text": [
      "[10, 9, 8, 7, 6, 5, 4, 3, 2, 1]\n"
     ]
    }
   ],
   "source": [
    "# list is a collection of things,enclosed in [] and seperated by commas.\n",
    "my_numbers =[1,2,3,4,5,6,7,8,9,10]\n",
    "my_numbers.reverse()\n",
    "print(my_numbers)"
   ]
  },
  {
   "cell_type": "code",
   "execution_count": null,
   "id": "7b3f0486",
   "metadata": {},
   "outputs": [],
   "source": [
    "How will you compare two lists?"
   ]
  },
  {
   "cell_type": "code",
   "execution_count": 44,
   "id": "da09c267",
   "metadata": {},
   "outputs": [
    {
     "name": "stdout",
     "output_type": "stream",
     "text": [
      "First comparison Equal\n",
      "Second comparison Non equal\n"
     ]
    }
   ],
   "source": [
    "#The list.sort()method sorts the two lists and the == operator compares the two lists item by item \n",
    "#which means they equal data items at equal position.This checks if the list contains equal data item values \n",
    "#but it does not take into account the order of element in the list.\n",
    "\n",
    "def compareList(l1,l2):\n",
    "   l1.sort()\n",
    "   l2.sort()\n",
    "   if(l1==l2):\n",
    "      return \"Equal\"\n",
    "   else:\n",
    "      return \"Non equal\"\n",
    "l1=[1,2,3]\n",
    "l2=[2,1,3]\n",
    "print(\"First comparison\",compareList(l1,l2))\n",
    "l3=[1,2,3]\n",
    "l4=[1,2,4]\n",
    "print(\"Second comparison\",compareList(l3,l4))"
   ]
  },
  {
   "cell_type": "code",
   "execution_count": null,
   "id": "65921218",
   "metadata": {},
   "outputs": [],
   "source": [
    "How will you remove last object from a list? Suppose list1 is [2, 33, 222, 14, and 25], what is list1 [-1]?"
   ]
  },
  {
   "cell_type": "code",
   "execution_count": 45,
   "id": "7ad6ab6f",
   "metadata": {},
   "outputs": [
    {
     "name": "stdout",
     "output_type": "stream",
     "text": [
      "[25]\n",
      "[14]\n",
      "[222]\n",
      "[33]\n",
      "[2]\n"
     ]
    }
   ],
   "source": [
    "list1=[2,33,222,14,25]\n",
    "   # -1,-2,-3,-4,-5\n",
    "print([list1[-1]]) \n",
    "print([list1[-2]])\n",
    "print([list1[-3]])\n",
    "print([list1[-4]])\n",
    "print([list1[-5]])"
   ]
  },
  {
   "cell_type": "code",
   "execution_count": null,
   "id": "8f68c230",
   "metadata": {},
   "outputs": [],
   "source": [
    "Differentiate between append () and extend () methods?"
   ]
  },
  {
   "cell_type": "code",
   "execution_count": 46,
   "id": "20b7e90f",
   "metadata": {},
   "outputs": [
    {
     "name": "stdout",
     "output_type": "stream",
     "text": [
      "[3, 4, 5, 6]\n",
      "['January', 'February', 'March', 'April', 'May', 'June']\n"
     ]
    }
   ],
   "source": [
    "#The append() method in the Python programming language adds an item to a list that already exists. \n",
    "#whereas the extend() method adds each of the iterable elements\n",
    "#which is supplied as a parameter to the end of the original list.\n",
    "# for example\n",
    "\n",
    "#create a list that needs to be appended\n",
    "original_lst = [3,4,5]\n",
    "#use the append function to add an element at the end of the list.\n",
    "original_lst.append(6)\n",
    "print (original_lst)\n",
    "\n",
    "\n",
    "\n",
    "#The append() method in the programming language Python adds an item to a list that already exists. \n",
    "#Instead of being returned to a new list, the item will be added toward the end of the existing list. \n",
    "#Because lists can include elements of several data types, programmers can add items of any data type.\n",
    "\n",
    "# assign list to values\n",
    "list_one = ['January', 'February', 'March']\n",
    "\n",
    "# use the extend method \n",
    "list_one.extend(['April', 'May', 'June'])\n",
    "\n",
    "# displaying the list\n",
    "print(list_one)\n"
   ]
  },
  {
   "cell_type": "code",
   "execution_count": null,
   "id": "148c1167",
   "metadata": {},
   "outputs": [],
   "source": [
    "Write a Python program to find the second smallest number in a list."
   ]
  },
  {
   "cell_type": "code",
   "execution_count": 47,
   "id": "f6b3362d",
   "metadata": {},
   "outputs": [
    {
     "name": "stdout",
     "output_type": "stream",
     "text": [
      "-2\n",
      "0\n",
      "0\n",
      "None\n",
      "None\n"
     ]
    }
   ],
   "source": [
    "def second_smallest(numbers):\n",
    "  if (len(numbers)<2):\n",
    "    return\n",
    "  if ((len(numbers)==2)  and (numbers[0] == numbers[1]) ):\n",
    "    return\n",
    "  dup_items = set()\n",
    "  uniq_items = []\n",
    "  for x in numbers:\n",
    "    if x not in dup_items:\n",
    "      uniq_items.append(x)\n",
    "      dup_items.add(x)\n",
    "  uniq_items.sort()    \n",
    "  return  uniq_items[1]   \n",
    "\n",
    "print(second_smallest([1, 2, -8, -2, 0, -2]))\n",
    "print(second_smallest([1, 1, 0, 0, 2, -2, -2]))\n",
    "print(second_smallest([1, 1, 1, 0, 0, 0, 2, -2, -2]))\n",
    "print(second_smallest([2,2]))\n",
    "print(second_smallest([2]))\n"
   ]
  },
  {
   "cell_type": "code",
   "execution_count": null,
   "id": "c65671d1",
   "metadata": {},
   "outputs": [],
   "source": [
    "Write a Python program to reverse a tuple."
   ]
  },
  {
   "cell_type": "code",
   "execution_count": 48,
   "id": "35f78567",
   "metadata": {},
   "outputs": [
    {
     "name": "stdout",
     "output_type": "stream",
     "text": [
      "('k', 'e', 'e', 'g', 'f', 'd', 'a', 'z')\n"
     ]
    }
   ],
   "source": [
    "# Reversing a tuple using slicing technique\n",
    "# New tuple is created\n",
    "def Reverse(tuples):\n",
    "    new_tup = tuples[::-1]\n",
    "    return new_tup\n",
    "     \n",
    "# Driver Code\n",
    "tuples = ('z','a','d','f','g','e','e','k')\n",
    "print(Reverse(tuples))"
   ]
  },
  {
   "cell_type": "code",
   "execution_count": null,
   "id": "d0f35994",
   "metadata": {},
   "outputs": [],
   "source": [
    "Write a Python program to remove duplicates from a list."
   ]
  },
  {
   "cell_type": "code",
   "execution_count": 49,
   "id": "f9441fa4",
   "metadata": {},
   "outputs": [
    {
     "name": "stdout",
     "output_type": "stream",
     "text": [
      "[2, 4, 10, 20, 5]\n"
     ]
    }
   ],
   "source": [
    "# Python code to remove duplicate elements\n",
    "def Remove(duplicate):\n",
    "    final_list = []\n",
    "    for num in duplicate:\n",
    "        if num not in final_list:\n",
    "            final_list.append(num)\n",
    "    return final_list\n",
    "     \n",
    "# Driver Code\n",
    "duplicate = [2, 4, 10, 20, 5, 2, 20, 4]\n",
    "print(Remove(duplicate))"
   ]
  },
  {
   "cell_type": "code",
   "execution_count": null,
   "id": "5fe74edd",
   "metadata": {},
   "outputs": [],
   "source": [
    "Write a Python function that takes a list and returns a new list with unique elements of the first list."
   ]
  },
  {
   "cell_type": "code",
   "execution_count": 50,
   "id": "47394b76",
   "metadata": {},
   "outputs": [
    {
     "name": "stdout",
     "output_type": "stream",
     "text": [
      "unique elements are\n",
      "[1, 2, 4, 5, 6, 9, 10]\n"
     ]
    }
   ],
   "source": [
    "def unique_list(l):\n",
    "  num = []\n",
    "  for a in l:\n",
    "    if a not in num:\n",
    "      num.append(a)\n",
    "  return num\n",
    "print('unique elements are')\n",
    "print(unique_list([1,2,4,5,4,5,6,9,10]))"
   ]
  },
  {
   "cell_type": "code",
   "execution_count": null,
   "id": "0f8f89b3",
   "metadata": {},
   "outputs": [],
   "source": [
    "Write a Python program to check a list is empty or not."
   ]
  },
  {
   "cell_type": "code",
   "execution_count": 51,
   "id": "5ac77b29",
   "metadata": {},
   "outputs": [
    {
     "name": "stdout",
     "output_type": "stream",
     "text": [
      "Empty List\n"
     ]
    }
   ],
   "source": [
    "def Enquiry(lis1):\n",
    "    if len(lis1) == 0:\n",
    "        return 0\n",
    "    else:\n",
    "        return 1\n",
    " \n",
    "# Driver Code\n",
    "lis1 = []\n",
    "if Enquiry(lis1):\n",
    "    print(\"The list is not empty\")\n",
    "else:\n",
    "    print(\"Empty List\")"
   ]
  },
  {
   "cell_type": "code",
   "execution_count": null,
   "id": "e6a8ac06",
   "metadata": {},
   "outputs": [],
   "source": [
    "Write a Python function to get the largest number, smallest num and sum of all from a list."
   ]
  },
  {
   "cell_type": "code",
   "execution_count": 52,
   "id": "2dffeb41",
   "metadata": {},
   "outputs": [
    {
     "name": "stdout",
     "output_type": "stream",
     "text": [
      "How many numbers: 6\n",
      "Enter number 25\n",
      "Enter number 96\n",
      "Enter number 13\n",
      "Enter number 67\n",
      "Enter number 34\n",
      "Enter number 80\n",
      "Maximum element in the list is : 96 \n",
      "Minimum element in the list is : 13\n",
      "321\n"
     ]
    }
   ],
   "source": [
    "lst = []\n",
    "num = int(input('How many numbers: '))\n",
    "for n in range(num):\n",
    "    numbers = int(input('Enter number '))\n",
    "    lst.append(numbers)\n",
    "print(\"Maximum element in the list is :\", max(lst), \"\\nMinimum element in the list is :\", min(lst))\n",
    "\n",
    "numbers = [25,96,13,67,34,80]\n",
    " \n",
    "Sum = sum(numbers, 6)\n",
    "print(Sum)"
   ]
  },
  {
   "cell_type": "code",
   "execution_count": null,
   "id": "e6860f62",
   "metadata": {},
   "outputs": [],
   "source": [
    "Write a Python program to get unique values from a list"
   ]
  },
  {
   "cell_type": "code",
   "execution_count": 53,
   "id": "8682200c",
   "metadata": {},
   "outputs": [
    {
     "name": "stdout",
     "output_type": "stream",
     "text": [
      "the unique values from 1st list is\n",
      "10\n",
      "20\n",
      "30\n",
      "40\n"
     ]
    }
   ],
   "source": [
    "# function to get unique values\n",
    "def unique(list1):\n",
    " \n",
    "    # initialize a null list\n",
    "    unique_list = []\n",
    " \n",
    "    # traverse for all elements\n",
    "    for x in list1:\n",
    "        # check if exists in unique_list or not\n",
    "        if x not in unique_list:\n",
    "            unique_list.append(x)\n",
    "    # print list\n",
    "    for x in unique_list:\n",
    "        print(x)\n",
    " \n",
    " \n",
    "# driver code\n",
    "list1 = [10, 20, 10, 30, 40, 40]\n",
    "print(\"the unique values from 1st list is\")\n",
    "unique(list1)\n",
    " "
   ]
  },
  {
   "cell_type": "code",
   "execution_count": null,
   "id": "fdd2cecb",
   "metadata": {},
   "outputs": [],
   "source": [
    "Write a Python program to split a list into different variables."
   ]
  },
  {
   "cell_type": "code",
   "execution_count": 54,
   "id": "098b49e3",
   "metadata": {},
   "outputs": [
    {
     "name": "stdout",
     "output_type": "stream",
     "text": [
      "names: ['advik', 'amol', 'ashu']\n",
      "var a: advik\n",
      "var b: amol\n",
      "var c: ashu\n"
     ]
    }
   ],
   "source": [
    "names=['advik','amol','ashu']\n",
    "print(\"names:\",names)\n",
    "\n",
    "a,b,c=names\n",
    "\n",
    "print(\"var a:\",a)\n",
    "print(\"var b:\",b)\n",
    "print(\"var c:\",c)"
   ]
  },
  {
   "cell_type": "code",
   "execution_count": null,
   "id": "eeca0a66",
   "metadata": {},
   "outputs": [],
   "source": [
    "Write a Python program to check whether an element exists within a tuple"
   ]
  },
  {
   "cell_type": "code",
   "execution_count": 55,
   "id": "5ee3aca7",
   "metadata": {},
   "outputs": [
    {
     "name": "stdout",
     "output_type": "stream",
     "text": [
      "True\n",
      "False\n"
     ]
    }
   ],
   "source": [
    "tuplex = (\"w\", 3, \"r\", \"e\", \"s\", \"o\", \"u\", \"r\", \"c\", \"e\")\n",
    "print(\"r\" in tuplex)\n",
    "print(5 in tuplex)\n"
   ]
  },
  {
   "cell_type": "code",
   "execution_count": null,
   "id": "dd1ad704",
   "metadata": {},
   "outputs": [],
   "source": [
    "Write a Python program to convert a list to a tuple."
   ]
  },
  {
   "cell_type": "code",
   "execution_count": 1,
   "id": "65ab1ff6",
   "metadata": {},
   "outputs": [
    {
     "name": "stdout",
     "output_type": "stream",
     "text": [
      "(1, 2, 3, 4)\n"
     ]
    }
   ],
   "source": [
    "# Python3 program to convert a\n",
    "# list into a tuple\n",
    "def convert(list):\n",
    "    return tuple(list)\n",
    " \n",
    "# Driver function\n",
    "list = [1, 2, 3, 4]\n",
    "print(convert(list))"
   ]
  },
  {
   "cell_type": "code",
   "execution_count": null,
   "id": "9b54b919",
   "metadata": {},
   "outputs": [],
   "source": [
    "Write a Python program to find the repeated items of a tuple."
   ]
  },
  {
   "cell_type": "code",
   "execution_count": 17,
   "id": "9bc2fef1",
   "metadata": {},
   "outputs": [
    {
     "name": "stdout",
     "output_type": "stream",
     "text": [
      "(2, 4, 5, 6, 2, 3, 4, 4, 7)\n",
      "3\n"
     ]
    }
   ],
   "source": [
    "#create a tuple\n",
    "tuple = 2, 4, 5, 6, 2, 3, 4, 4, 7 \n",
    "print(tuple)\n",
    "#return the number of times it appears in the tuple.\n",
    "count = tuple.count(4)\n",
    "print(count)"
   ]
  },
  {
   "cell_type": "code",
   "execution_count": null,
   "id": "d2de6454",
   "metadata": {},
   "outputs": [],
   "source": [
    "Write a Python program to remove an empty tuple(s) from a list of tuples"
   ]
  },
  {
   "cell_type": "code",
   "execution_count": 18,
   "id": "95258838",
   "metadata": {},
   "outputs": [
    {
     "name": "stdout",
     "output_type": "stream",
     "text": [
      "[('ram', '15', '8'), ('laxman', 'sita'), ('krishna', 'akbar', '45'), ('', '')]\n"
     ]
    }
   ],
   "source": [
    "# Python program to remove empty tuples from a\n",
    "# list of tuples function to remove empty tuples\n",
    "# using list comprehension\n",
    "def Remove(tuples):\n",
    "    tuples = [t for t in tuples if t]\n",
    "    return tuples\n",
    " \n",
    "# Driver Code\n",
    "tuples = [(), ('ram','15','8'), (), ('laxman', 'sita'),\n",
    "          ('krishna', 'akbar', '45'), ('',''),()]\n",
    "print(Remove(tuples))"
   ]
  },
  {
   "cell_type": "code",
   "execution_count": null,
   "id": "668cbdf2",
   "metadata": {},
   "outputs": [],
   "source": [
    "Write a Python program to unzip a list of tuples into individual lists."
   ]
  },
  {
   "cell_type": "code",
   "execution_count": 1,
   "id": "273fc572",
   "metadata": {},
   "outputs": [
    {
     "name": "stdout",
     "output_type": "stream",
     "text": [
      "[(1, 3, 8), (2, 4, 9)]\n"
     ]
    }
   ],
   "source": [
    "#create a tuple\n",
    "l = [(1,2), (3,4), (8,9)]\n",
    "print(list(zip(*l)))"
   ]
  },
  {
   "cell_type": "code",
   "execution_count": null,
   "id": "45b2bcef",
   "metadata": {},
   "outputs": [],
   "source": [
    "Write a Python function to check whether a number is in a given range"
   ]
  },
  {
   "cell_type": "code",
   "execution_count": 34,
   "id": "5e87a87b",
   "metadata": {},
   "outputs": [
    {
     "name": "stdout",
     "output_type": "stream",
     "text": [
      " 5 is in the range\n"
     ]
    }
   ],
   "source": [
    "def test_range(n):\n",
    "    if n in range(3,9):\n",
    "        print( \" %s is in the range\"%str(n))\n",
    "    else :\n",
    "        print(\"The number is outside the given range.\")\n",
    "test_range(5)"
   ]
  },
  {
   "cell_type": "code",
   "execution_count": null,
   "id": "e7f9a809",
   "metadata": {},
   "outputs": [],
   "source": [
    "Write a Python function that checks whether a passed string is palindrome or not"
   ]
  },
  {
   "cell_type": "code",
   "execution_count": 36,
   "id": "d0f807f4",
   "metadata": {},
   "outputs": [
    {
     "name": "stdout",
     "output_type": "stream",
     "text": [
      "civic is Palindrome\n"
     ]
    }
   ],
   "source": [
    "input_string = 'civic'\n",
    "rev = input_string[::-1]\n",
    "\n",
    "if input_string == rev:\n",
    "    print(rev + \" is Palindrome\")\n",
    "else:\n",
    "    print(rev + \" is not Palindrome\")"
   ]
  },
  {
   "cell_type": "code",
   "execution_count": null,
   "id": "09d76c9d",
   "metadata": {},
   "outputs": [],
   "source": [
    "Write a Python program to returns sum of all divisors of a number"
   ]
  },
  {
   "cell_type": "code",
   "execution_count": 37,
   "id": "e0bb102b",
   "metadata": {},
   "outputs": [
    {
     "name": "stdout",
     "output_type": "stream",
     "text": [
      "7\n",
      "16\n"
     ]
    }
   ],
   "source": [
    "def sum_div(number):\n",
    "    divisors = [1]\n",
    "    for i in range(2, number):\n",
    "        if (number % i)==0:\n",
    "            divisors.append(i)\n",
    "    return sum(divisors)\n",
    "print(sum_div(8))\n",
    "print(sum_div(12))"
   ]
  },
  {
   "cell_type": "code",
   "execution_count": null,
   "id": "4a6a432f",
   "metadata": {},
   "outputs": [],
   "source": [
    "Write a Python program to find the maximum and minimum numbers from the specified decimal numbers."
   ]
  },
  {
   "cell_type": "code",
   "execution_count": 2,
   "id": "bbe53813",
   "metadata": {},
   "outputs": [
    {
     "name": "stdout",
     "output_type": "stream",
     "text": [
      "Maximum:  7.25\n",
      "Minimum:  0.04\n"
     ]
    }
   ],
   "source": [
    "from decimal import *\n",
    "data = list(map(Decimal, '2.45 2.69 2.45 3.45 2.00 0.04 7.25'.split()))\n",
    "print(\"Maximum: \", max(data))\n",
    "print(\"Minimum: \", min(data))\n"
   ]
  },
  {
   "cell_type": "code",
   "execution_count": null,
   "id": "124142b7",
   "metadata": {},
   "outputs": [],
   "source": [
    "Write a Python program to calculate the area of a parallelogram"
   ]
  },
  {
   "cell_type": "code",
   "execution_count": 3,
   "id": "5e92b26d",
   "metadata": {},
   "outputs": [
    {
     "name": "stdout",
     "output_type": "stream",
     "text": [
      "Length of base: 15\n",
      "Measurement of height: 7\n",
      "Area is:  105.0\n"
     ]
    }
   ],
   "source": [
    "base = float(input('Length of base: '))\n",
    "height = float(input('Measurement of height: '))\n",
    "area = base * height\n",
    "print(\"Area is: \", area)\n"
   ]
  },
  {
   "cell_type": "code",
   "execution_count": null,
   "id": "649c6a3f",
   "metadata": {},
   "outputs": [],
   "source": [
    "Write a Python function to check whether a number is perfect or not."
   ]
  },
  {
   "cell_type": "code",
   "execution_count": 4,
   "id": "d9a27b80",
   "metadata": {},
   "outputs": [
    {
     "name": "stdout",
     "output_type": "stream",
     "text": [
      "True\n"
     ]
    }
   ],
   "source": [
    "def perfect_number(n):\n",
    "    sum = 0\n",
    "    for x in range(1, n):\n",
    "        if n % x == 0:\n",
    "            sum += x\n",
    "    return sum == n\n",
    "print(perfect_number(6))"
   ]
  },
  {
   "cell_type": "code",
   "execution_count": null,
   "id": "86513a67",
   "metadata": {},
   "outputs": [],
   "source": [
    "Write a Python program to convert degree to radian"
   ]
  },
  {
   "cell_type": "code",
   "execution_count": 5,
   "id": "c7c4603b",
   "metadata": {},
   "outputs": [
    {
     "name": "stdout",
     "output_type": "stream",
     "text": [
      "Input degrees: 80\n",
      "1.3968253968253967\n"
     ]
    }
   ],
   "source": [
    "pi=22/7\n",
    "degree = float(input(\"Input degrees: \"))\n",
    "radian = degree*(pi/180)\n",
    "print(radian)"
   ]
  },
  {
   "cell_type": "code",
   "execution_count": null,
   "id": "0c06e3a8",
   "metadata": {},
   "outputs": [],
   "source": [
    "Write a Python program to calculate the area of a trapezoid"
   ]
  },
  {
   "cell_type": "code",
   "execution_count": 6,
   "id": "ef7c4e1e",
   "metadata": {},
   "outputs": [
    {
     "name": "stdout",
     "output_type": "stream",
     "text": [
      "Height of trapezoid: 56\n",
      "Base one value: 19\n",
      "Base two value: 67\n",
      "Area is: 2408.0\n"
     ]
    }
   ],
   "source": [
    "base_1 = 5\n",
    "base_2 = 6\n",
    "height = float(input(\"Height of trapezoid: \"))\n",
    "base_1 = float(input('Base one value: '))\n",
    "base_2 = float(input('Base two value: '))\n",
    "area = ((base_1 + base_2) / 2) * height\n",
    "print(\"Area is:\", area)"
   ]
  },
  {
   "cell_type": "code",
   "execution_count": null,
   "id": "dba991f2",
   "metadata": {},
   "outputs": [],
   "source": [
    "Write a Python program to calculate surface volume and area of a cylinder"
   ]
  },
  {
   "cell_type": "code",
   "execution_count": 7,
   "id": "3031bbc1",
   "metadata": {},
   "outputs": [
    {
     "name": "stdout",
     "output_type": "stream",
     "text": [
      "Height of cylinder: 40\n",
      "Radius of cylinder: 10\n",
      "Volume is:  12571.42857142857\n",
      "Surface Area is:  3142.8571428571427\n"
     ]
    }
   ],
   "source": [
    "pi=22/7\n",
    "height = float(input('Height of cylinder: '))\n",
    "radian = float(input('Radius of cylinder: '))\n",
    "volume = pi * radian * radian * height\n",
    "sur_area = ((2*pi*radian) * height) + ((pi*radian**2)*2)\n",
    "print(\"Volume is: \", volume)\n",
    "print(\"Surface Area is: \", sur_area)"
   ]
  },
  {
   "cell_type": "code",
   "execution_count": null,
   "id": "47d3e1d7",
   "metadata": {},
   "outputs": [],
   "source": []
  }
 ],
 "metadata": {
  "kernelspec": {
   "display_name": "Python 3 (ipykernel)",
   "language": "python",
   "name": "python3"
  },
  "language_info": {
   "codemirror_mode": {
    "name": "ipython",
    "version": 3
   },
   "file_extension": ".py",
   "mimetype": "text/x-python",
   "name": "python",
   "nbconvert_exporter": "python",
   "pygments_lexer": "ipython3",
   "version": "3.11.4"
  }
 },
 "nbformat": 4,
 "nbformat_minor": 5
}
