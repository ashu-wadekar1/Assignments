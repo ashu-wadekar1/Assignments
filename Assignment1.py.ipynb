{
 "cells": [
  {
   "cell_type": "code",
   "execution_count": null,
   "id": "a0622766",
   "metadata": {},
   "outputs": [],
   "source": [
    "# Write a Python program to sum of three given integers. However, if two values are equal sum will be zero."
   ]
  },
  {
   "cell_type": "code",
   "execution_count": 1,
   "id": "4897fb6f",
   "metadata": {},
   "outputs": [
    {
     "name": "stdout",
     "output_type": "stream",
     "text": [
      "0\n",
      "0\n",
      "0\n",
      "6\n"
     ]
    }
   ],
   "source": [
    "def sum_three(x,y,z):\n",
    "    if x==y or y==z or x==z:\n",
    "        sum = 0\n",
    "    else:\n",
    "        sum =x+y+z\n",
    "    return sum\n",
    "print(sum_three(2,1,2))\n",
    "print(sum_three(3,2,2))\n",
    "print(sum_three(2,2,2))\n",
    "print(sum_three(1,2,3))"
   ]
  },
  {
   "cell_type": "code",
   "execution_count": null,
   "id": "0cc9ec32",
   "metadata": {},
   "outputs": [],
   "source": [
    "# Write a Python program to test whether a passed letter is a vowel or not.         "
   ]
  },
  {
   "cell_type": "code",
   "execution_count": 2,
   "id": "fb3b458d",
   "metadata": {},
   "outputs": [],
   "source": [
    "def fun(str):\n",
    "    \n",
    "    vowel = ['a','e','i','o','u','A','E','I','O','U']\n",
    "    \n",
    "    if str == vowel:\n",
    "        \n",
    "        print (\"It is a vowel\")\n",
    "    else:\n",
    "        print (\"It is not vowel\")"
   ]
  },
  {
   "cell_type": "code",
   "execution_count": 3,
   "id": "2aa23267",
   "metadata": {},
   "outputs": [
    {
     "name": "stdout",
     "output_type": "stream",
     "text": [
      "It is not vowel\n",
      "It is not vowel\n"
     ]
    }
   ],
   "source": [
    "fun('a')\n",
    "fun('O')"
   ]
  },
  {
   "cell_type": "code",
   "execution_count": null,
   "id": "e68ea9dd",
   "metadata": {},
   "outputs": [],
   "source": [
    "# Write python program that swap two number with temp variable and without temp variable."
   ]
  },
  {
   "cell_type": "code",
   "execution_count": 4,
   "id": "b87b2b20",
   "metadata": {},
   "outputs": [
    {
     "name": "stdout",
     "output_type": "stream",
     "text": [
      "The value of x after swapping:10\n",
      "The value of y after swapping:5\n"
     ]
    }
   ],
   "source": [
    "x = 5\n",
    "y = 10\n",
    "\n",
    "# To take inputs from the user\n",
    "#x = input('Enter value of x:')\n",
    "#y = input('Enter value of y:')\n",
    "\n",
    "# create a temp variable and swap the values\n",
    "temp = x\n",
    "x = y\n",
    "y = temp\n",
    "\n",
    "print('The value of x after swapping:{}'.format(x))\n",
    "print('The value of y after swapping:{}'.format(y))"
   ]
  },
  {
   "cell_type": "code",
   "execution_count": null,
   "id": "46ba59f0",
   "metadata": {},
   "outputs": [],
   "source": [
    "# Write a Python program to calculate the length of a string."
   ]
  },
  {
   "cell_type": "code",
   "execution_count": 6,
   "id": "0b8b6929",
   "metadata": {},
   "outputs": [
    {
     "name": "stdout",
     "output_type": "stream",
     "text": [
      "enter a string:ashwini\n",
      "lenght of the input string is: 7\n"
     ]
    }
   ],
   "source": [
    "str = input(\"enter a string:\")\n",
    "print(\"lenght of the input string is:\",len(str))\n"
   ]
  },
  {
   "cell_type": "code",
   "execution_count": null,
   "id": "8bc354f4",
   "metadata": {},
   "outputs": [],
   "source": [
    "# Write a Python program to find whether a given number is even or odd,print out an appropriate message to the user.\n"
   ]
  },
  {
   "cell_type": "code",
   "execution_count": 7,
   "id": "27caad56",
   "metadata": {},
   "outputs": [
    {
     "name": "stdout",
     "output_type": "stream",
     "text": [
      "enter a number:7\n",
      "the number is odd\n"
     ]
    }
   ],
   "source": [
    "num=int(input(\"enter a number:\"))\n",
    "if(num % 2) == 0:\n",
    "    print(\"the number is even\")\n",
    "else:\n",
    "    print(\"the number is odd\")"
   ]
  },
  {
   "cell_type": "code",
   "execution_count": null,
   "id": "63df1371",
   "metadata": {},
   "outputs": [],
   "source": [
    "# write a programme to find biggest number of given three values."
   ]
  },
  {
   "cell_type": "code",
   "execution_count": 8,
   "id": "321563af",
   "metadata": {},
   "outputs": [
    {
     "name": "stdout",
     "output_type": "stream",
     "text": [
      "the biggest number is 25\n"
     ]
    }
   ],
   "source": [
    "num1 =2\n",
    "num2 =10\n",
    "num3 =25\n",
    "\n",
    "if(num1>=num2)and (num1>=num3):\n",
    "    biggest=num1\n",
    "elif(num2>=num1)and (num2>=num3):\n",
    "    biggest=num2\n",
    "else:\n",
    "    biggest=num3\n",
    "    print(\"the biggest number is\",biggest)"
   ]
  },
  {
   "cell_type": "code",
   "execution_count": null,
   "id": "b79a728f",
   "metadata": {},
   "outputs": [],
   "source": [
    "# Write a Python program that will return true if the two given integer values are equal or their sum or difference is 5.\n"
   ]
  },
  {
   "cell_type": "code",
   "execution_count": 9,
   "id": "a64b137c",
   "metadata": {},
   "outputs": [
    {
     "name": "stdout",
     "output_type": "stream",
     "text": [
      "True\n",
      "True\n",
      "True\n",
      "False\n"
     ]
    }
   ],
   "source": [
    "# 5,5=true\n",
    "#2+3=5=true\n",
    "#10-5=5=true\n",
    "def test(x,y):\n",
    "    if (x==y or abs(x-y)==5 or (x+y)==5):\n",
    "        return True\n",
    "    else:\n",
    "        return False\n",
    "    \n",
    "print(test(7,2))\n",
    "print(test(7,2)) \n",
    "print(test(3,2))\n",
    "print(test(26,44))"
   ]
  },
  {
   "cell_type": "code",
   "execution_count": null,
   "id": "1964911c",
   "metadata": {},
   "outputs": [],
   "source": [
    "# Write a python program to sum of the first n positive integers"
   ]
  },
  {
   "cell_type": "code",
   "execution_count": 10,
   "id": "5a2b3e4f",
   "metadata": {},
   "outputs": [
    {
     "name": "stdout",
     "output_type": "stream",
     "text": [
      "input a number:9\n",
      "sum of the first 9 positive integers: 45.0\n"
     ]
    }
   ],
   "source": [
    "n = int(input(\"input a number:\"))\n",
    "sum_num=(n*(n+1))/2\n",
    "print(\"sum of the first\",n,\"positive integers:\",sum_num)"
   ]
  },
  {
   "cell_type": "code",
   "execution_count": null,
   "id": "118993a8",
   "metadata": {},
   "outputs": [],
   "source": [
    "# Write a Python program to calculate the length of a string."
   ]
  },
  {
   "cell_type": "code",
   "execution_count": 11,
   "id": "bd386fae",
   "metadata": {},
   "outputs": [
    {
     "name": "stdout",
     "output_type": "stream",
     "text": [
      "enter a string:advik\n",
      "lenght of the input string is: 5\n"
     ]
    }
   ],
   "source": [
    "str = input(\"enter a string:\")\n",
    "print(\"lenght of the input string is:\",len(str))"
   ]
  },
  {
   "cell_type": "code",
   "execution_count": null,
   "id": "bfd24ac8",
   "metadata": {},
   "outputs": [],
   "source": [
    "#What is the purpose continue statement in python?"
   ]
  },
  {
   "cell_type": "code",
   "execution_count": 12,
   "id": "48a6d3cf",
   "metadata": {},
   "outputs": [
    {
     "name": "stdout",
     "output_type": "stream",
     "text": [
      "10\n",
      "out of loop\n"
     ]
    }
   ],
   "source": [
    "number =0\n",
    "for a in range(10):\n",
    "    number =a+1\n",
    "if number ==5:\n",
    "    'continue'\n",
    "print(number)\n",
    "print(\"out of loop\")"
   ]
  },
  {
   "cell_type": "code",
   "execution_count": null,
   "id": "154a99be",
   "metadata": {},
   "outputs": [],
   "source": [
    "#Write a Python program to add 'ing' at the end of a given string (length should be at least 3). If the given string already ends with 'ing' then add 'ly' instead if the string length of the given string is less than 3, leave it unchanged."
   ]
  },
  {
   "cell_type": "code",
   "execution_count": 13,
   "id": "0c051113",
   "metadata": {},
   "outputs": [],
   "source": [
    "def add_string(str1):\n",
    "    length = len(str1)\n",
    "    \n",
    "    if length > 2:\n",
    "        if str1 [-3:] == 'ing':\n",
    "            str1 += 'ly'\n",
    "        else:\n",
    "            str1 += 'ing'\n",
    "            \n",
    "        return str1\n",
    "    print(add_string('ab'))\n",
    "    print(add_string('abc'))\n",
    "    print(add_string('string'))"
   ]
  },
  {
   "cell_type": "code",
   "execution_count": null,
   "id": "e66d5bde",
   "metadata": {},
   "outputs": [],
   "source": [
    "Write a Python program to find the first appearance of the substring 'not' and 'poor' from a given string, if 'not' follows the 'poor', replace the whole 'not'...'poor' substring with 'good'. Return the resulting string"
   ]
  },
  {
   "cell_type": "code",
   "execution_count": 14,
   "id": "d3ecb761",
   "metadata": {},
   "outputs": [
    {
     "name": "stdout",
     "output_type": "stream",
     "text": [
      "the lyrics is good!\n",
      "the lyrics is poor!\n"
     ]
    }
   ],
   "source": [
    "def not_poor(str1):\n",
    "    snot = str1.find('not')\n",
    "    spoor = str1.find('poor')\n",
    "    \n",
    "    if spoor>snot and snot>0 and spoor>0:\n",
    "        str1 = str1. replace(str1[snot:(spoor+4)],'good')\n",
    "        return str1\n",
    "    else:\n",
    "        return str1\n",
    "print(not_poor('the lyrics is not that poor!'))\n",
    "print(not_poor('the lyrics is poor!'))"
   ]
  },
  {
   "cell_type": "code",
   "execution_count": null,
   "id": "cbfb80bc",
   "metadata": {},
   "outputs": [],
   "source": [
    "Write a Python function to insert a string in the middle of a string."
   ]
  },
  {
   "cell_type": "code",
   "execution_count": 15,
   "id": "78e2d8b3",
   "metadata": {},
   "outputs": [
    {
     "name": "stdout",
     "output_type": "stream",
     "text": [
      "[[Python]]\n",
      "{{PHP}}\n",
      "[[HTML]]\n"
     ]
    }
   ],
   "source": [
    "def insert_string_middle(str,word):\n",
    "    return str[:2]+word+str[2:]\n",
    "\n",
    "print(insert_string_middle('[[]]','Python'))\n",
    "print(insert_string_middle('{{}}','PHP'))\n",
    "print(insert_string_middle('[[]]','HTML'))"
   ]
  },
  {
   "cell_type": "code",
   "execution_count": null,
   "id": "a067096d",
   "metadata": {},
   "outputs": [],
   "source": [
    "reverses a string if its length is a multiple of 4."
   ]
  },
  {
   "cell_type": "code",
   "execution_count": 16,
   "id": "86d7b413",
   "metadata": {},
   "outputs": [
    {
     "name": "stdout",
     "output_type": "stream",
     "text": [
      "dcba\n",
      "python\n"
     ]
    }
   ],
   "source": [
    "def reverse_string(str1):\n",
    "    if len(str1)%4==0:\n",
    "        return''.join(reversed(str1))\n",
    "    return str1\n",
    "\n",
    "print(reverse_string('abcd'))\n",
    "print(reverse_string('python'))"
   ]
  },
  {
   "cell_type": "code",
   "execution_count": null,
   "id": "79e3f714",
   "metadata": {},
   "outputs": [],
   "source": [
    "Write a Python program to get a string made of the first 2 and the last 2 chars from a given a string. If the string length is less than 2, return instead of the empty string"
   ]
  },
  {
   "cell_type": "code",
   "execution_count": 17,
   "id": "58148393",
   "metadata": {},
   "outputs": [
    {
     "name": "stdout",
     "output_type": "stream",
     "text": [
      "w3ce\n",
      "w3w3\n",
      "\n"
     ]
    }
   ],
   "source": [
    "def string_both_ends(str):\n",
    "    if len(str)<2:\n",
    "        return''\n",
    "    \n",
    "    return str[0:2] + str[-2:]\n",
    "\n",
    "print(string_both_ends('w3resource'))\n",
    "print(string_both_ends('w3'))\n",
    "print(string_both_ends('w'))"
   ]
  },
  {
   "cell_type": "code",
   "execution_count": null,
   "id": "b7ccf882",
   "metadata": {},
   "outputs": [],
   "source": [
    "Write a Python program to get a single string from two given strings, separated by a space and swap the first two characters of each string."
   ]
  },
  {
   "cell_type": "code",
   "execution_count": 18,
   "id": "d8c90761",
   "metadata": {},
   "outputs": [
    {
     "name": "stdout",
     "output_type": "stream",
     "text": [
      "xyc abz\n"
     ]
    }
   ],
   "source": [
    "def chars_mix_up(a,b):\n",
    "    new_a =b[:2]+a[2:]\n",
    "    new_b =a[:2]+b[2:]\n",
    "    \n",
    "    return new_a +' ' +new_b\n",
    "print(chars_mix_up('abc','xyz'))"
   ]
  },
  {
   "cell_type": "code",
   "execution_count": null,
   "id": "8b6d5676",
   "metadata": {},
   "outputs": [],
   "source": [
    "Write a Python program to get the Fibonacci series of given range."
   ]
  },
  {
   "cell_type": "code",
   "execution_count": 19,
   "id": "c6fc8676",
   "metadata": {},
   "outputs": [
    {
     "name": "stdout",
     "output_type": "stream",
     "text": [
      "34\n"
     ]
    }
   ],
   "source": [
    "def Fibonacci(n):\n",
    "    #check if input is 0 then it will\n",
    "    #print incorrect input\n",
    "    if n<0:\n",
    "        print(\"incorrect input\")\n",
    "#check if n is 0\n",
    "#then it will return 0\n",
    "    elif n ==0:\n",
    "         return 0\n",
    "#check if n is 1,2\n",
    "#it will return 1\n",
    "    elif n==1 or n==2:\n",
    "         return 1\n",
    "    else:\n",
    "         return Fibonacci(n-1)+Fibonacci(n-2)\n",
    "print(Fibonacci(9))\n"
   ]
  },
  {
   "cell_type": "code",
   "execution_count": null,
   "id": "05754423",
   "metadata": {},
   "outputs": [],
   "source": [
    "Write a Python program to get the Factorial number of given number"
   ]
  },
  {
   "cell_type": "code",
   "execution_count": 20,
   "id": "514e7f12",
   "metadata": {},
   "outputs": [
    {
     "name": "stdout",
     "output_type": "stream",
     "text": [
      "the factorial of 7 is 1\n"
     ]
    }
   ],
   "source": [
    "num=7\n",
    "factorial=1\n",
    "\n",
    "if num<0:\n",
    "    print(\"sorry,factorial does not exist for negative number\")\n",
    "elif num==0:\n",
    "    print(\"the factorial of 0 is 1\")\n",
    "else:\n",
    "    for i in range(1,num+1):\n",
    "        factorial=factorial*1\n",
    "    print(\"the factorial of\",num,\"is\",factorial)"
   ]
  },
  {
   "cell_type": "code",
   "execution_count": null,
   "id": "5eadc5ae",
   "metadata": {},
   "outputs": [],
   "source": [
    "Write a Python program to check if a number is positive, negative or zero"
   ]
  },
  {
   "cell_type": "code",
   "execution_count": 22,
   "id": "0d397a7d",
   "metadata": {},
   "outputs": [
    {
     "name": "stdout",
     "output_type": "stream",
     "text": [
      "enter a number:-10\n",
      "negative number\n"
     ]
    }
   ],
   "source": [
    "num=float(input(\"enter a number:\"))\n",
    "if num>0:\n",
    "    print(\"positive number\")\n",
    "elif num==0:\n",
    "    print(\"zero\")\n",
    "else:\n",
    "    print(\"negative number\")"
   ]
  },
  {
   "cell_type": "code",
   "execution_count": null,
   "id": "9f12bc32",
   "metadata": {},
   "outputs": [],
   "source": [
    "How memory is managed in Python?"
   ]
  },
  {
   "cell_type": "code",
   "execution_count": null,
   "id": "2e730c68",
   "metadata": {},
   "outputs": [],
   "source": [
    "#Memory management in Python involves a private heap containing all Python objects and data structures. \n",
    "#The management of this private heap is ensured internally by the Python memory manager.\n",
    "# Memory management in Python is the process of sharing, redistributing, and linking\n",
    "#memory so that all the various processes can run smoothly and have access to a variety of system resources.\n",
    "#Memory management includes memory clearing of obsolete objects.\n",
    "#In Python, a memory manager manages these types of tasks by working from time to time to clean, share, and manage memory. \n",
    "#In python, objects are managed by using reference counts. \n",
    "#This means that the memory manager keeps track of the number of clues in each item in the system.\n",
    "#When referring to an item's reference drops to zero, which means that the item is no longer in use, \n",
    "#the garbage collector (part of the memory manager) automatically releases the memory from that item.\n",
    "#The user does not have to worry about memory management in python as the sharing and memory allocation process is completely automatic. \n",
    "#Recovered memory can be used for other purposes."
   ]
  }
 ],
 "metadata": {
  "kernelspec": {
   "display_name": "Python 3 (ipykernel)",
   "language": "python",
   "name": "python3"
  },
  "language_info": {
   "codemirror_mode": {
    "name": "ipython",
    "version": 3
   },
   "file_extension": ".py",
   "mimetype": "text/x-python",
   "name": "python",
   "nbconvert_exporter": "python",
   "pygments_lexer": "ipython3",
   "version": "3.11.4"
  }
 },
 "nbformat": 4,
 "nbformat_minor": 5
}
